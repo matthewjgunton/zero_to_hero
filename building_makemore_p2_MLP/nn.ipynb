{
 "cells": [
  {
   "cell_type": "markdown",
   "metadata": {},
   "source": [
    "# Overview\n",
    "- [Link to Video](https://www.youtube.com/watch?v=TCH_1BHY58I&list=PLAqhIrjkxbuWI23v9cThsA9GvCAUhRvKZ&index=3)\n",
    "- Multi-Layer Perceptron began in [this paper](https://www.jmlr.org/papers/volume3/bengio03a/bengio03a.pdf)\n",
    "- they built a word-level language model (vocabulary size of 17k)\n",
    "    - each word gets a 30-dimensional feature vector (30 dimension embedding)\n",
    "- the embeddings begin randomly, but as we train we are tuning these embeddings\n",
    "    - goal is to bring words with similar meanings into a very similar part of the space\n",
    "    - multiple dimensions to show how items can be similar\n",
    "    - embedding matrix is shared among all of the inputs (rather than each input getting a unique embedding matrix)\n",
    "- loss was log-likelihood calculation like before\n",
    "- intuition here is that we use the embedding space as a way to transfer knowledge to new situations\n",
    "    - embedding space sizes then have a trade-off (don't want it to match the wrong situation, or to never find the correlations)\n",
    "- the biggest computation happens at the end (linear layer)\n",
    "    - 1 neuron for each vocabulary exists there, each of which is fully connected to the last hidden layer\n",
    "    - huge amount of parameters lie here"
   ]
  },
  {
   "cell_type": "code",
   "execution_count": 211,
   "metadata": {},
   "outputs": [],
   "source": [
    "# dependencies\n",
    "import torch\n",
    "import torch.nn.functional as F\n",
    "import matplotlib.pyplot as plt\n",
    "%matplotlib inline"
   ]
  },
  {
   "cell_type": "markdown",
   "metadata": {},
   "source": [
    "# Building Data\n",
    "- we read in from our same corpus from last time\n",
    "- note, we are only reading the first 5 instances here to make our first experiments fast\n",
    "- our `context = context[1:] + [ix]` is important because it shows how we are keeping the window a constant size\n",
    "    - each data is at most of size 3, and each time we gain a character, we also remove one\n",
    "    - the way this is coded, we can also easily adjust blocksize (it's filled with 0s if the word is too small)\n",
    "- note the shape at the end:\n",
    "    - (32, 3)\n",
    "        - 32, as we have 32 blocks of 3 from our first 5 words\n",
    "        - 3 is for the block_size we had"
   ]
  },
  {
   "cell_type": "code",
   "execution_count": 212,
   "metadata": {},
   "outputs": [
    {
     "name": "stdout",
     "output_type": "stream",
     "text": [
      "\n",
      "emma\n",
      "... --> e\n",
      "..e --> m\n",
      ".em --> m\n",
      "emm --> a\n",
      "mma --> .\n",
      "\n",
      "olivia\n",
      "... --> o\n",
      "..o --> l\n",
      ".ol --> i\n",
      "oli --> v\n",
      "liv --> i\n",
      "ivi --> a\n",
      "via --> .\n",
      "\n",
      "ava\n",
      "... --> a\n",
      "..a --> v\n",
      ".av --> a\n",
      "ava --> .\n",
      "\n",
      "isabella\n",
      "... --> i\n",
      "..i --> s\n",
      ".is --> a\n",
      "isa --> b\n",
      "sab --> e\n",
      "abe --> l\n",
      "bel --> l\n",
      "ell --> a\n",
      "lla --> .\n",
      "\n",
      "sophia\n",
      "... --> s\n",
      "..s --> o\n",
      ".so --> p\n",
      "sop --> h\n",
      "oph --> i\n",
      "phi --> a\n",
      "hia --> .\n"
     ]
    },
    {
     "data": {
      "text/plain": [
       "(torch.Size([32, 3]), torch.int64, torch.Size([32]), torch.int64)"
      ]
     },
     "execution_count": 212,
     "metadata": {},
     "output_type": "execute_result"
    }
   ],
   "source": [
    "words = open('../building_makemore/names.txt', \"r\").read().splitlines()\n",
    "chars = sorted(list(set(''.join(words))))\n",
    "char_to_index = {s:i+1 for i,s in enumerate(chars)}\n",
    "char_to_index[\".\"] = 0\n",
    "index_to_char = {i:s for s,i in char_to_index.items()}\n",
    "\n",
    "# build dataset\n",
    "block_size = 3 #how many characters does it take to predict the next one\n",
    "X, Y = [], []\n",
    "for w in words[:5]:\n",
    "    context = [0] * block_size\n",
    "    print(\"\\n\"+w)\n",
    "    for ch in w + '.':\n",
    "        ix = char_to_index[ch]\n",
    "        X.append(context)\n",
    "        Y.append(ix)\n",
    "        print(\"\".join(index_to_char[i] for i in context), \"-->\", index_to_char[ix])\n",
    "        context = context[1:] + [ix] # context gains a character and loses one to keep the length the same\n",
    "\n",
    "# why tensor & not Tensor?\n",
    "X = torch.tensor(X)    \n",
    "Y = torch.tensor(Y)    \n",
    "X.shape, X.dtype, Y.shape, Y.dtype\n"
   ]
  },
  {
   "cell_type": "markdown",
   "metadata": {},
   "source": [
    "# Building Embedding Later\n",
    "- we are going to instantiate our embedding layer randomly\n",
    "    - we are choosing dimensions (27,2)\n",
    "        - 27 for each of the possible vocabulary\n",
    "        - 2 arbitrarily (each of our vocab has 2 dimensional embedding)\n",
    "- below shows us exploring different ways to index into the tensor\n",
    "    - C[X] is the most important, we are indexing into the torch on a multi-dimensional level\n",
    "        - here, we are getting the embeddings (C) for every single corresponding row in X\n",
    "    - as a toy example:\n",
    "```\n",
    "C = [[2, 2],  # C[0]\n",
    "     [1, 1]]  # C[1]\n",
    "\n",
    "X = [[1],     # Index for C[1]\n",
    "     [1],     # Index for C[1]\n",
    "     [0],     # Index for C[1]\n",
    "     [1],     # Index for C[1]\n",
    "     [1]]     # Index for C[1]\n",
    "\n",
    "C[X] = \n",
    "C[X] = [\n",
    "  [[1, 1]], //= C[X[0]] = C[1]\n",
    "  [[1, 1]], //= C[X[1]] = C[1]\n",
    "  [[2, 2]], //= C[X[2]] = C[0]\n",
    "  [[1, 1]], //= C[X[3]] = C[1]\n",
    "  [[1, 1]]  //= C[X[3]] = C[1]\n",
    "]\n",
    "``` "
   ]
  },
  {
   "cell_type": "code",
   "execution_count": 213,
   "metadata": {},
   "outputs": [
    {
     "name": "stdout",
     "output_type": "stream",
     "text": [
      "tensor(1)\n"
     ]
    }
   ],
   "source": [
    "# building our embedding matrix\n",
    "C = torch.randn((27, 2)) # 2 dimensional embedding for every char\n",
    "\n",
    "# indexing into our embedding matrix for an entire row\n",
    "C[5]\n",
    "F.one_hot(torch.tensor(5), num_classes=27).float() @ C # does the same thing, but C[5] is much faster in pytorch\n",
    "\n",
    "# index with list\n",
    "C[[1,2,3]]\n",
    "\n",
    "# index with tensor of ints\n",
    "C[torch.tensor([1,2,3])]\n",
    "\n",
    "# get the same index multiple times\n",
    "C[[5,5,5]]\n",
    "\n",
    "# index multi-dimensional\n",
    "C[X]\n",
    "C[X].shape\n",
    "# (32, 3, 2)\n",
    "\n",
    "print(X[13, 2])\n",
    "C[1] == C[X][13,2] # here we are getting X[13,2] and then indexing that into C => X[13,2] = 1 => C[1]\n",
    "\n",
    "emb = C[X] # this is how we'll represent the first interaction in our model (input meeting embedding layer)"
   ]
  },
  {
   "cell_type": "markdown",
   "metadata": {},
   "source": [
    "# PyTorch Indexing Examples\n",
    "- cat() shows how we can concatenate tensors together\n",
    "    - note that unbind() achieves the same thing as making sure we combine the tensors along 1 dimension\n",
    "- storage() shows that in Pytorch all tensors are laid out as 1-dimensional\n",
    "    - when we use view(), we are rearranging the tensor -- we can pick any dimensions we want provided they still hold all our data\n",
    "        - eg: (18,1) can be (6, 3) (9,2)\n",
    "- in short, simply doing the view() can effectively adjust our dimensions without needing to do more calculations\n",
    "    - cat() is the most inefficient because it needs to use the most intermediary memory\n",
    "\n",
    "[link to helpful blog post](http://blog.ezyang.com/2019/05/pytorch-internals/)"
   ]
  },
  {
   "cell_type": "code",
   "execution_count": 214,
   "metadata": {},
   "outputs": [
    {
     "name": "stdout",
     "output_type": "stream",
     "text": [
      "tensor([ 0,  1,  2,  3,  4,  5,  6,  7,  8,  9, 10, 11, 12, 13, 14, 15, 16, 17])\n",
      "tensor([[ 0],\n",
      "        [ 1],\n",
      "        [ 2],\n",
      "        [ 3],\n",
      "        [ 4],\n",
      "        [ 5],\n",
      "        [ 6],\n",
      "        [ 7],\n",
      "        [ 8],\n",
      "        [ 9],\n",
      "        [10],\n",
      "        [11],\n",
      "        [12],\n",
      "        [13],\n",
      "        [14],\n",
      "        [15],\n",
      "        [16],\n",
      "        [17]])\n"
     ]
    },
    {
     "data": {
      "text/plain": [
       "tensor([[True, True, True, True, True, True],\n",
       "        [True, True, True, True, True, True],\n",
       "        [True, True, True, True, True, True],\n",
       "        [True, True, True, True, True, True],\n",
       "        [True, True, True, True, True, True],\n",
       "        [True, True, True, True, True, True],\n",
       "        [True, True, True, True, True, True],\n",
       "        [True, True, True, True, True, True],\n",
       "        [True, True, True, True, True, True],\n",
       "        [True, True, True, True, True, True],\n",
       "        [True, True, True, True, True, True],\n",
       "        [True, True, True, True, True, True],\n",
       "        [True, True, True, True, True, True],\n",
       "        [True, True, True, True, True, True],\n",
       "        [True, True, True, True, True, True],\n",
       "        [True, True, True, True, True, True],\n",
       "        [True, True, True, True, True, True],\n",
       "        [True, True, True, True, True, True],\n",
       "        [True, True, True, True, True, True],\n",
       "        [True, True, True, True, True, True],\n",
       "        [True, True, True, True, True, True],\n",
       "        [True, True, True, True, True, True],\n",
       "        [True, True, True, True, True, True],\n",
       "        [True, True, True, True, True, True],\n",
       "        [True, True, True, True, True, True],\n",
       "        [True, True, True, True, True, True],\n",
       "        [True, True, True, True, True, True],\n",
       "        [True, True, True, True, True, True],\n",
       "        [True, True, True, True, True, True],\n",
       "        [True, True, True, True, True, True],\n",
       "        [True, True, True, True, True, True],\n",
       "        [True, True, True, True, True, True]])"
      ]
     },
     "execution_count": 214,
     "metadata": {},
     "output_type": "execute_result"
    }
   ],
   "source": [
    "# 0-2 because the block size is 3\n",
    "torch.cat([emb[:, 0, :], emb[:, 1, :], emb[:, 2, :]], 1).shape# (all the examples, 0th-2nd index, all of the channels)\n",
    "\n",
    "# unbind is a torch item that will do this >> [emb[:, 0, :], emb[:, 1, :], emb[:, 2, :]]\n",
    "torch.cat(torch.unbind(emb, 1), 1).shape\n",
    "\n",
    "#proof (when batch size == 3)\n",
    "torch.cat([emb[:, 0, :], emb[:, 1, :], emb[:, 2, :]], 1).shape == torch.cat(torch.unbind(emb, 1), 1).shape\n",
    "\n",
    "a = torch.arange(18)\n",
    "print(a)\n",
    "print(a.view(18, 1))\n",
    "a.storage()\n",
    "\n",
    "emb.view(32, 6)  == torch.cat(torch.unbind(emb, 1), 1)#this is the same as a concatonation\n",
    "# output is an element wise comparison\n",
    "# note cat is far more inefficient because we create intermediary versions to handle the torch"
   ]
  },
  {
   "cell_type": "markdown",
   "metadata": {},
   "source": [
    "# building our simple model\n",
    "- we are going to have 2 hidden layers here with weights and biases\n",
    "- our input dimension to the weights is 6 ==> 3 inputs x 2 embedding layers\n",
    "    - we arbitrarily choose 100 as our hidden layer size\n",
    "    - our biases need to match the neuron size\n",
    "- we then use tanh() as our activation layer, making sure our cross-multiplication with W1 has the right dimensions thanks to emb.view()\n",
    "    - we are converting our (32, 3, 2) here into a (32, 6) for easy multiplication with W1 (6, 100)\n",
    "- we set our W2 input dimension to match the hidden layer (100) and then output 27 to match our vocabulary size\n",
    "    - note again, our biases need to match\n",
    "- we compute the logits by multiplying our activations from the first layer (h) by W2 (dimensions already match so no need for view())\n",
    "- we take our logits to e^x then we normalize these to create probabilities (soft max normalization)\n",
    "- by indexing into the 32 examples where the right values are (Y), we get how close we were to the right answers\n",
    "    - prob[[1...32], Y] => prob1[Y], prob2[Y], prob3[Y], etc.\n",
    "    - if we mean all of these, we will find one possible loss function for our model"
   ]
  },
  {
   "cell_type": "code",
   "execution_count": 215,
   "metadata": {},
   "outputs": [
    {
     "data": {
      "text/plain": [
       "tensor(17.4946)"
      ]
     },
     "execution_count": 215,
     "metadata": {},
     "output_type": "execute_result"
    }
   ],
   "source": [
    "W1 = torch.randn((6, 100)) # 3 inputs with 2 embeddings each (6), 100 is arbitrary\n",
    "b1 = torch.randn(100) # match neurons\n",
    "h = torch.tanh(emb.view(emb.shape[0], 6) @ W1 + b1) #emb.shape[0] == 32 here (-1 means pytorch needs to infer)\n",
    "\n",
    "W2 = torch.randn((100, 27))\n",
    "b2 = torch.randn(27)\n",
    "logits = h @ W2 + b2\n",
    "logits.shape # (32, 27) => probabilites for every letter for all 32 examples\n",
    "\n",
    "counts = logits.exp() # here we take our logits to e^x\n",
    "prob = counts / counts.sum(1, keepdim=True) # \n",
    "-prob[torch.arange(32), Y].log().mean() # approximates the loss\n",
    "# F.cross_entropy(logits, Y) we will use cross-entropy"
   ]
  },
  {
   "cell_type": "markdown",
   "metadata": {},
   "source": [
    "# "
   ]
  },
  {
   "cell_type": "markdown",
   "metadata": {},
   "source": [
    "# Edge Cases with Softmax\n",
    "- with very high values, we can see our gradients get messed up\n",
    "    - example: [100, -3, 0, 10]\n",
    "- If we instead subtract the largest value of the tensor in and then take the softmax, we will no longer have the concern\n",
    "    - this is what pytorch does under the hood\n"
   ]
  },
  {
   "cell_type": "code",
   "execution_count": 216,
   "metadata": {},
   "outputs": [
    {
     "name": "stdout",
     "output_type": "stream",
     "text": [
      "tensor([nan, 0., 0., 0.])\n",
      "tensor([1., 0., 0., 0.])\n"
     ]
    }
   ],
   "source": [
    "# why cross-entropy\n",
    "logits = torch.tensor([100000, -3, 0, -10000])\n",
    "counts = logits.exp()\n",
    "prob = counts / counts.sum()\n",
    "print(prob)\n",
    "\n",
    "logits = torch.tensor([100000, -3, 0, -10000]) - 100000\n",
    "counts = logits.exp()\n",
    "prob = counts / counts.sum()\n",
    "print(prob)"
   ]
  },
  {
   "cell_type": "markdown",
   "metadata": {},
   "source": [
    "# Finding the Learning Rate\n",
    "- Learing Rate is the proportion of the gradient we adjust our weights or biases by\n",
    "- finding the right one is a matter or running experiments\n",
    "- below, we use torch.linspace() to create 1000 gradations of different powers we can try to run\n",
    "    - generally 1 is too high (leads to failure to learn)\n",
    "    - by plotting the exponents, we can see where the loss is minimized and then use that\n",
    "- generally the learning rate shouldn't stay the same throughout the run (we adjust this in what's called a learning rate scheduler)\n",
    "    - the basic intuition is that at the beginning we want large changes to the gradients, but then as we progress we want smaller ones to avoid overwriting critical information"
   ]
  },
  {
   "cell_type": "code",
   "execution_count": 217,
   "metadata": {},
   "outputs": [
    {
     "name": "stdout",
     "output_type": "stream",
     "text": [
      "total params: 3481\n"
     ]
    }
   ],
   "source": [
    "g = torch.Generator().manual_seed(2147483647)\n",
    "C = torch.randn((27, 2), generator=g)\n",
    "emb = C[X]\n",
    "\n",
    "# initializing our weights & biases\n",
    "W1 = torch.randn((6, 100), generator=g) # 3 inputs with 2 embeddings each (6), 100 is arbitrary\n",
    "b1 = torch.randn(100, generator=g) # match neurons\n",
    "W2 = torch.randn((100, 27), generator=g)\n",
    "b2 = torch.randn(27, generator=g)\n",
    "\n",
    "# putting all of our parameters into a single tensor\n",
    "parameters = [C, W1, b1, W2, b2]\n",
    "print(f\"total params: {sum(p.nelement() for p in parameters)}\")\n",
    "\n",
    "\n",
    "for p in parameters:\n",
    "    p.requires_grad = True\n",
    "\n",
    "lre = torch.linspace(-3, 0, 1000)\n",
    "lrs = 10**lre\n",
    "\n",
    "lri = []\n",
    "lossi = []\n",
    "\n",
    "\n",
    "for i in range(1000):\n",
    "    minibatch = torch.randint(0, X.shape[0], (32,))\n",
    "\n",
    "    emb = C[X[minibatch]]\n",
    "    h = torch.tanh(emb.view(emb.shape[0], 6) @ W1 + b1)\n",
    "    logits = h @ W2 + b2\n",
    "    loss = F.cross_entropy(logits, Y[minibatch])\n",
    "    for p in parameters:\n",
    "        p.grad = None\n",
    "    loss.backward()\n",
    "    # update\n",
    "    lr = lrs[i]\n",
    "    for p in parameters:\n",
    "        p.data += -lr * p.grad\n",
    "\n",
    "    # track stats\n",
    "    lri.append(lre[i])\n",
    "    lossi.append(loss.item())"
   ]
  },
  {
   "cell_type": "code",
   "execution_count": 218,
   "metadata": {},
   "outputs": [
    {
     "data": {
      "text/plain": [
       "[<matplotlib.lines.Line2D at 0x1261439b0>]"
      ]
     },
     "execution_count": 218,
     "metadata": {},
     "output_type": "execute_result"
    },
    {
     "data": {
      "image/png": "[encoded data removed]",
      "text/plain": [
       "<Figure size 640x480 with 1 Axes>"
      ]
     },
     "metadata": {},
     "output_type": "display_data"
    }
   ],
   "source": [
    "plt.plot(lri, lossi)\n",
    "# the best one then is 0.1"
   ]
  },
  {
   "cell_type": "code",
   "execution_count": 219,
   "metadata": {},
   "outputs": [
    {
     "data": {
      "text/plain": [
       "0.8611006140708923"
      ]
     },
     "execution_count": 219,
     "metadata": {},
     "output_type": "execute_result"
    }
   ],
   "source": [
    "# loss on the whole model at the end\n",
    "emb = C[X] \n",
    "h = torch.tanh(emb.view(emb.shape[0], 6) @ W1 + b1)\n",
    "logits = h @ W2 + b2\n",
    "loss = F.cross_entropy(logits, Y)\n",
    "loss.item()"
   ]
  },
  {
   "cell_type": "code",
   "execution_count": 220,
   "metadata": {},
   "outputs": [
    {
     "data": {
      "text/plain": [
       "tensor([False,  True,  True,  True,  True, False,  True,  True,  True,  True,\n",
       "         True,  True, False,  True,  True,  True, False,  True,  True,  True,\n",
       "         True,  True,  True,  True,  True,  True,  True,  True,  True,  True,\n",
       "         True,  True])"
      ]
     },
     "execution_count": 220,
     "metadata": {},
     "output_type": "execute_result"
    }
   ],
   "source": [
    "# Why are we not able to predict all of the right values all of the time?\n",
    "# take the example:\n",
    "# ... => E\n",
    "# vs ... => A\n",
    "# vs ... => O\n",
    "# In our set, all are possible outcomes for the same input (so it's never fully deterministic)\n",
    "\n",
    "logits.max(1).indices == Y\n"
   ]
  },
  {
   "cell_type": "markdown",
   "metadata": {},
   "source": [
    "# Data Set Split\n",
    "- when we train a lot, we risk overfitting to the training data\n",
    "- this is problematic as the goal of the model is to successfully handle examples outside the training set\n",
    "- to avoid this, we split our data into 3 pieces (training, validation, testing)\n",
    "    - split roughly (80, 10, 10)\n",
    "- We use validation as a signal of how well the model generalizes, so we can adjust our hyperparameters\n",
    "- our testing set is what we use to publish success"
   ]
  },
  {
   "cell_type": "code",
   "execution_count": 221,
   "metadata": {},
   "outputs": [],
   "source": [
    "def build_dataset(data):\n",
    "    block_size = 3 #how many characters does it take to predict the next one\n",
    "    X, Y = [], []\n",
    "    for w in data:\n",
    "        context = [0] * block_size\n",
    "        for ch in w + '.':\n",
    "            ix = char_to_index[ch]\n",
    "            X.append(context)\n",
    "            Y.append(ix)\n",
    "            context = context[1:] + [ix] # context gains a character and loses one to keep the length the same\n",
    "    X = torch.tensor(X)    \n",
    "    Y = torch.tensor(Y)    \n",
    "    return X, Y\n",
    "\n",
    "import random\n",
    "random.seed(42)\n",
    "random.shuffle(words)\n",
    "n1 = int(0.8*(len(words)))\n",
    "n2 = int(0.9*(len(words)))\n",
    "\n",
    "Xtr, Ytr = build_dataset(words[:n1])\n",
    "Xvalid, Yvalid = build_dataset(words[n1:n2])\n",
    "Xtest, Ytest = build_dataset(words[n2:])"
   ]
  },
  {
   "cell_type": "markdown",
   "metadata": {},
   "source": [
    "# Batch Sizes\n",
    "- to move more efficiently through the training runs, we also break up our data into batches\n",
    "- the idea is that with smaller amounts of data going through the model, we can have each run go faster and thus give more iterations to improve\n",
    "- the tradeoff is that a mini-batch's loss is not the loss on the entire corpus\n",
    "    - consequently, we expect to see loss bounce around due to the difference between the loss on the batch and the loss on the general corpus\n",
    "- the larger your batch, generally the fewer steps you need"
   ]
  },
  {
   "cell_type": "code",
   "execution_count": 222,
   "metadata": {},
   "outputs": [
    {
     "name": "stdout",
     "output_type": "stream",
     "text": [
      "total params: 3481\n",
      "2.7456789016723633\n",
      "2.377218723297119\n"
     ]
    }
   ],
   "source": [
    "g = torch.Generator().manual_seed(2147483647)\n",
    "C = torch.randn((27, 2), generator=g)\n",
    "emb = C[X]\n",
    "\n",
    "# initializing our weights & biases\n",
    "W1 = torch.randn((6, 100), generator=g) # 3 inputs with 2 embeddings each (6), 100 is arbitrary\n",
    "b1 = torch.randn(100, generator=g) # match neurons\n",
    "W2 = torch.randn((100, 27), generator=g)\n",
    "b2 = torch.randn(27, generator=g)\n",
    "\n",
    "# putting all of our parameters into a single tensor\n",
    "parameters = [C, W1, b1, W2, b2]\n",
    "print(f\"total params: {sum(p.nelement() for p in parameters)}\")\n",
    "\n",
    "\n",
    "for p in parameters:\n",
    "    p.requires_grad = True\n",
    "\n",
    "for _ in range(50000):\n",
    "    minibatch = torch.randint(0, Xtr.shape[0], (32,)) \n",
    "\n",
    "    emb = C[Xtr[minibatch]] # setting up BTC [32, 3, 2]\n",
    "    h = torch.tanh(emb.view(emb.shape[0], 6) @ W1 + b1)\n",
    "    logits = h @ W2 + b2\n",
    "    loss = F.cross_entropy(logits, Ytr[minibatch])\n",
    "    for p in parameters:\n",
    "        p.grad = None\n",
    "    loss.backward()\n",
    "    # update\n",
    "    for p in parameters:\n",
    "        p.data += -0.1 * p.grad\n",
    "print(loss.item())\n",
    "\n",
    "# evaluate on dev\n",
    "emb = C[Xvalid] # setting up BTC [32, 3, 2]\n",
    "h = torch.tanh(emb.view(emb.shape[0], 6) @ W1 + b1)\n",
    "logits = h @ W2 + b2\n",
    "loss = F.cross_entropy(logits, Yvalid)\n",
    "print(loss.item())"
   ]
  },
  {
   "cell_type": "markdown",
   "metadata": {},
   "source": [
    "# Building a Bigger Model\n",
    "- we are now going to expand the hidden layer in an attempt to improve the model's loss\n",
    "- Before we were at ~100, so here we simply adjust the dimension of the weights and biases to match 300\n",
    "- because we have more weights, we also want to increase the number of steps we take to train the model\n",
    "    - the complexity of fitting the weights increases with more weights. To increase the odds we fit correctly, we add more steps"
   ]
  },
  {
   "cell_type": "code",
   "execution_count": 223,
   "metadata": {},
   "outputs": [
    {
     "name": "stdout",
     "output_type": "stream",
     "text": [
      "total params: 10281\n",
      "2.4199726581573486\n"
     ]
    }
   ],
   "source": [
    "g = torch.Generator().manual_seed(2147483647)\n",
    "C = torch.randn((27, 2), generator=g)\n",
    "\n",
    "# initializing our weights & biases\n",
    "W1 = torch.randn((6, 300), generator=g) # 3 inputs with 2 embeddings each (6), 100 is arbitrary\n",
    "b1 = torch.randn(300, generator=g) # match neurons\n",
    "W2 = torch.randn((300, 27), generator=g)\n",
    "b2 = torch.randn(27, generator=g)\n",
    "\n",
    "# putting all of our parameters into a single tensor\n",
    "parameters = [C, W1, b1, W2, b2]\n",
    "print(f\"total params: {sum(p.nelement() for p in parameters)}\")\n",
    "\n",
    "\n",
    "for p in parameters:\n",
    "    p.requires_grad = True\n",
    "\n",
    "stepi = []\n",
    "lossi = []\n",
    "validlossi = []\n",
    "last_valid_lossi = 4\n",
    "\n",
    "# adjust steps, and make bigger batch size\n",
    "\n",
    "for i in range(50000):\n",
    "    minibatch = torch.randint(0, Xtr.shape[0], (32,)) # not a great way though, as we may never see all of the dataset (or see some more than others)\n",
    "    # gradient direction is less valuable as we are only training on portions, but much better to have an approximate gradient and make more steps than to have an exact gradient and take fewer steps\n",
    "    # basically we trade off batch size for steps\n",
    "\n",
    "    emb = C[Xtr[minibatch]] # setting up BTC [32, 3, 2]\n",
    "    h = torch.tanh(emb.view(emb.shape[0], 6) @ W1 + b1)\n",
    "    logits = h @ W2 + b2\n",
    "    loss = F.cross_entropy(logits, Ytr[minibatch])\n",
    "    for p in parameters:\n",
    "        p.grad = None\n",
    "    loss.backward()\n",
    "    # update\n",
    "    for p in parameters:\n",
    "        p.data += -0.01 * p.grad\n",
    "\n",
    "    if i % 10000 == 0 and i != 0:\n",
    "            emb = C[Xvalid] # setting up BTC [32, 3, 2]\n",
    "            h = torch.tanh(emb.view(emb.shape[0], 6) @ W1 + b1)\n",
    "            logits = h @ W2 + b2\n",
    "            loss = F.cross_entropy(logits, Yvalid)\n",
    "            last_valid_lossi = loss.item()\n",
    "    \n",
    "    # track stats\n",
    "    validlossi.append(last_valid_lossi)\n",
    "    stepi.append(i)\n",
    "    lossi.append(loss.item())\n",
    "\n",
    "# evaluate on dev\n",
    "emb = C[Xvalid] # setting up BTC [32, 3, 2]\n",
    "h = torch.tanh(emb.view(emb.shape[0], 6) @ W1 + b1)\n",
    "logits = h @ W2 + b2\n",
    "loss = F.cross_entropy(logits, Yvalid)\n",
    "print(loss.item())"
   ]
  },
  {
   "cell_type": "markdown",
   "metadata": {},
   "source": [
    "# Analyzing Embeddings + Loss\n",
    "- Looking at our loss graph:\n",
    "    - we can see that the loss has flat-lined, and specifically that more training steps do not appear to be reducing the loss\n",
    "    - this suggests that our bottle neck is likely elsewhere in the model\n",
    "- Looking at the scatterplot, we can see that the different letters have been grouped based on usage by the network (signalling that the weights are no longer random post-training)\n",
    "    - specifically, we can see that the vowels are grouped together, and letters that are rarely used (like q or .) are quite distinct from the rest.\n",
    "    - this makes sense, as the embeddings are basically inputs, so when we have a very unique input, we expect a very unique embedding"
   ]
  },
  {
   "cell_type": "code",
   "execution_count": 224,
   "metadata": {},
   "outputs": [
    {
     "data": {
      "image/png": "[encoded data removed]",
      "text/plain": [
       "<Figure size 640x480 with 1 Axes>"
      ]
     },
     "metadata": {},
     "output_type": "display_data"
    },
    {
     "data": {
      "image/png": "[encoded data removed]",
      "text/plain": [
       "<Figure size 800x800 with 1 Axes>"
      ]
     },
     "metadata": {},
     "output_type": "display_data"
    }
   ],
   "source": [
    "plt.plot(stepi, lossi)\n",
    "plt.plot(stepi, validlossi)\n",
    "\n",
    "plt.figure(figsize=(8,8))\n",
    "plt.scatter(C[:,0].data, C[:,1].data, s=200)\n",
    "for i in range(C.shape[0]):\n",
    "    plt.text(C[i,0].item(), C[i,1].item(), index_to_char[i], ha=\"center\", va=\"center\", color=\"white\")\n",
    "plt.grid(\"minor\")"
   ]
  },
  {
   "cell_type": "markdown",
   "metadata": {},
   "source": [
    "# Expanding the Embedding Layer\n",
    "- We saw that the embedding layer was likely the bottleneck because the hidden layer got much bigger and the loss did not improve\n",
    "- We will go from 2 to 10 dimensions, and this requires we adjust the rest of our model to handle larger tensors\n",
    "- We adjust the size of our weight1 tensors so that they can handle 3 inputs x 10 dimensions (so a matrix of size 30)\n",
    "- Running this we see that we get Karpathy's 2.17 loss"
   ]
  },
  {
   "cell_type": "code",
   "execution_count": 225,
   "metadata": {},
   "outputs": [
    {
     "name": "stdout",
     "output_type": "stream",
     "text": [
      "total params: 11897\n",
      "2.0793213844299316\n",
      "2.159499168395996\n"
     ]
    }
   ],
   "source": [
    "g = torch.Generator().manual_seed(2147483647)\n",
    "C = torch.randn((27, 10), generator=g)\n",
    "\n",
    "# initializing our weights & biases\n",
    "W1 = torch.randn((30, 200), generator=g) # 3 inputs with 10 embeddings each (30), 100 is arbitrary\n",
    "b1 = torch.randn(200, generator=g) # match neurons\n",
    "W2 = torch.randn((200, 27), generator=g)\n",
    "b2 = torch.randn(27, generator=g)\n",
    "\n",
    "# putting all of our parameters into a single tensor\n",
    "parameters = [C, W1, b1, W2, b2]\n",
    "print(f\"total params: {sum(p.nelement() for p in parameters)}\")\n",
    "\n",
    "\n",
    "for p in parameters:\n",
    "    p.requires_grad = True\n",
    "\n",
    "stepi = []\n",
    "lossi = []\n",
    "\n",
    "# adjust steps, and make bigger batch size\n",
    "\n",
    "for i in range(200000):\n",
    "    minibatch = torch.randint(0, Xtr.shape[0], (32,)) # not a great way though, as we may never see all of the dataset (or see some more than others)\n",
    "    # gradient direction is less valuable as we are only training on portions, but much better to have an approximate gradient and make more steps than to have an exact gradient and take fewer steps\n",
    "    # basically we trade off batch size for steps\n",
    "\n",
    "    emb = C[Xtr[minibatch]] # setting up BTC [32, 3, 2]\n",
    "    h = torch.tanh(emb.view(emb.shape[0], 30) @ W1 + b1)\n",
    "    logits = h @ W2 + b2\n",
    "    loss = F.cross_entropy(logits, Ytr[minibatch])\n",
    "    for p in parameters:\n",
    "        p.grad = None\n",
    "    loss.backward()\n",
    "    # update\n",
    "    lr = 0.1 if i < 100000 else 0.01\n",
    "    for p in parameters:\n",
    "        p.data += -lr * p.grad\n",
    "\n",
    "    # track stats\n",
    "    stepi.append(i)\n",
    "    lossi.append(loss.log10().item())\n",
    "print(loss.item())\n",
    "\n",
    "# evaluate on dev\n",
    "emb = C[Xvalid] # setting up BTC [32, 3, 2]\n",
    "h = torch.tanh(emb.view(emb.shape[0], 30) @ W1 + b1)\n",
    "logits = h @ W2 + b2\n",
    "loss = F.cross_entropy(logits, Yvalid)\n",
    "print(loss.item())\n",
    "\n",
    "# andrej got 2.1701 validation (beat this!)"
   ]
  },
  {
   "cell_type": "code",
   "execution_count": 226,
   "metadata": {},
   "outputs": [
    {
     "data": {
      "text/plain": [
       "[<matplotlib.lines.Line2D at 0x136acfb30>]"
      ]
     },
     "execution_count": 226,
     "metadata": {},
     "output_type": "execute_result"
    },
    {
     "data": {
      "image/png": "[encoded data removed]",
      "text/plain": [
       "<Figure size 640x480 with 1 Axes>"
      ]
     },
     "metadata": {},
     "output_type": "display_data"
    }
   ],
   "source": [
    "plt.plot(stepi, lossi)\n",
    "# in production you set hyperparameters and run many different experiments"
   ]
  },
  {
   "cell_type": "markdown",
   "metadata": {},
   "source": [
    "# Trying to Beat Andrej's Score\n",
    "- Andrej ends the video asking us to beat his loss, which scores ~2.17 on the validation set after the training run is complete\n",
    "- I tried this initially by expanding the network significantly (400 dimension hidden layer, 20 embeddings per token), but its loss wasn't getting lower\n",
    "- I set my dimensions similar to Karpathy's (3 inputs, 10 embedding dimensions per input, 200 hidden dimensions) but adjusted the learning rate schedule\n",
    "- I found that the later I moved the learning rate drop, the lower my overall loss was\n",
    "- this suggests that the model was being undertrained early on\n",
    "- final score I got was 2.11"
   ]
  },
  {
   "cell_type": "code",
   "execution_count": 227,
   "metadata": {},
   "outputs": [
    {
     "name": "stdout",
     "output_type": "stream",
     "text": [
      "total params: 11897\n",
      "2.0324249267578125\n",
      "2.1337037086486816\n"
     ]
    }
   ],
   "source": [
    "block_size = 3\n",
    "embeddings_per_token = 10\n",
    "hidden_dim = 200\n",
    "\n",
    "\n",
    "def build_dataset(data):\n",
    "    X, Y = [], []\n",
    "    for w in data:\n",
    "        context = [0] * block_size\n",
    "        for ch in w + '.':\n",
    "            ix = char_to_index[ch]\n",
    "            X.append(context)\n",
    "            Y.append(ix)\n",
    "            context = context[1:] + [ix]\n",
    "    X = torch.tensor(X)    \n",
    "    Y = torch.tensor(Y)    \n",
    "    return X, Y\n",
    "\n",
    "import random\n",
    "random.seed(42)\n",
    "random.shuffle(words)\n",
    "n1 = int(0.8*(len(words)))\n",
    "n2 = int(0.9*(len(words)))\n",
    "\n",
    "Xtr, Ytr = build_dataset(words[:n1])\n",
    "Xvalid, Yvalid = build_dataset(words[n1:n2])\n",
    "Xtest, Ytest = build_dataset(words[n2:])\n",
    "\n",
    "g = torch.Generator().manual_seed(2147483647)\n",
    "C = torch.randn((27, embeddings_per_token), generator=g)\n",
    "\n",
    "weightin = Xtr.shape[1] * embeddings_per_token\n",
    "W1 = torch.randn((weightin, hidden_dim), generator=g) # 400\n",
    "b1 = torch.randn(hidden_dim, generator=g) # match neurons\n",
    "W2 = torch.randn((hidden_dim, 27), generator=g)\n",
    "b2 = torch.randn(27, generator=g)\n",
    "\n",
    "parameters = [C, W1, b1, W2, b2]\n",
    "print(f\"total params: {sum(p.nelement() for p in parameters)}\")\n",
    "\n",
    "for p in parameters:\n",
    "    p.requires_grad = True\n",
    "\n",
    "stepi = []\n",
    "lossi = []\n",
    "validlossi = []\n",
    "lri = []\n",
    "last_valid_lossi = 4\n",
    "# adjust steps, and make bigger batch size\n",
    "\n",
    "for i in range(300000):\n",
    "    minibatch = torch.randint(0, Xtr.shape[0], (32,)) # not a great way though, as we may never see all of the dataset (or see some more than others)\n",
    "    # gradient direction is less valuable as we are only training on portions, but much better to have an approximate gradient and make more steps than to have an exact gradient and take fewer steps\n",
    "    # basically we trade off batch size for steps\n",
    "\n",
    "    emb = C[Xtr[minibatch]] # setting up BTC [32, 3, 2]\n",
    "    h = torch.tanh(emb.view(emb.shape[0], weightin) @ W1 + b1)\n",
    "    logits = h @ W2 + b2\n",
    "    loss = F.cross_entropy(logits, Ytr[minibatch])\n",
    "    for p in parameters:\n",
    "        p.grad = None\n",
    "    loss.backward()\n",
    "    # update\n",
    "    lr = 0.1 if i < 300000*.8 else 0.01\n",
    "    for p in parameters:\n",
    "        p.data += -lr * p.grad\n",
    "\n",
    "    if i % 10000 == 0 and i != 0:\n",
    "        emb = C[Xvalid] # setting up BTC [32, 3, 2]\n",
    "        h = torch.tanh(emb.view(emb.shape[0], weightin) @ W1 + b1)\n",
    "        logits = h @ W2 + b2\n",
    "        loss = F.cross_entropy(logits, Yvalid)\n",
    "        last_valid_lossi = loss.item()\n",
    "    \n",
    "    # track stats\n",
    "    validlossi.append(last_valid_lossi)\n",
    "    stepi.append(i)\n",
    "    lossi.append(loss.log10().item())\n",
    "    lri.append(lr)\n",
    "print(loss.item())\n",
    "\n",
    "# evaluate on dev\n",
    "emb = C[Xvalid] # setting up BTC [32, 3, 2]\n",
    "h = torch.tanh(emb.view(emb.shape[0], weightin) @ W1 + b1)\n",
    "logits = h @ W2 + b2\n",
    "loss = F.cross_entropy(logits, Yvalid)\n",
    "print(loss.item())"
   ]
  },
  {
   "cell_type": "code",
   "execution_count": 228,
   "metadata": {},
   "outputs": [
    {
     "data": {
      "text/plain": [
       "[<matplotlib.lines.Line2D at 0x14df271a0>]"
      ]
     },
     "execution_count": 228,
     "metadata": {},
     "output_type": "execute_result"
    },
    {
     "data": {
      "image/png": "[encoded data removed]",
      "text/plain": [
       "<Figure size 640x480 with 1 Axes>"
      ]
     },
     "metadata": {},
     "output_type": "display_data"
    }
   ],
   "source": [
    "plt.plot(stepi, lossi)\n",
    "plt.plot(stepi, validlossi)\n",
    "plt.plot(stepi, lri)"
   ]
  }
 ],
 "metadata": {
  "kernelspec": {
   "display_name": ".venv",
   "language": "python",
   "name": "python3"
  },
  "language_info": {
   "codemirror_mode": {
    "name": "ipython",
    "version": 3
   },
   "file_extension": ".py",
   "mimetype": "text/x-python",
   "name": "python",
   "nbconvert_exporter": "python",
   "pygments_lexer": "ipython3",
   "version": "3.12.7"
  }
 },
 "nbformat": 4,
 "nbformat_minor": 2
}
